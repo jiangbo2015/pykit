{
 "cells": [
  {
   "cell_type": "code",
   "execution_count": 2,
   "metadata": {},
   "outputs": [],
   "source": [
    "import PIL\n",
    "from PIL import Image\n",
    "\n",
    "im = Image.open('images/im.png')\n"
   ]
  },
  {
   "cell_type": "code",
   "execution_count": 7,
   "metadata": {},
   "outputs": [
    {
     "name": "stdout",
     "output_type": "stream",
     "text": [
      "PNG \n",
      "\n",
      "RGBA \n",
      "\n",
      "(200, 200) \n",
      "\n",
      "200 \n",
      "\n",
      "200 \n",
      "\n",
      "images/im.png \n",
      "\n",
      "None \n",
      "\n",
      "{} \n",
      "\n"
     ]
    }
   ],
   "source": [
    "# 属性\n",
    "print(im.format, '\\n')\n",
    "print(im.mode, '\\n')\n",
    "print(im.size, '\\n')\n",
    "print(im.width, '\\n')\n",
    "print(im.height, '\\n')\n",
    "print(im.filename, '\\n')\n",
    "print(im.palette, '\\n')\n",
    "print(im.info, '\\n')"
   ]
  },
  {
   "cell_type": "code",
   "execution_count": 38,
   "metadata": {},
   "outputs": [
    {
     "name": "stdout",
     "output_type": "stream",
     "text": [
      "('R', 'G', 'B', 'A')\n",
      "(0, 0, 200, 200)\n",
      "('R', 'G', 'B', 'A')\n",
      "None\n",
      "(127, 111, 254, 255)\n",
      "<PIL.Image.Image image mode=L size=200x200 at 0x10D5F2E80>\n"
     ]
    },
    {
     "data": {
      "text/plain": [
       "True"
      ]
     },
     "execution_count": 38,
     "metadata": {},
     "output_type": "execute_result"
    }
   ],
   "source": [
    "# 方法\n",
    "im.convert('L').convert('RGB')\n",
    "imc = im.copy() #返回复制后的文件\n",
    "imp = im.crop((30,30,90,90)) #返回crop后的内容\n",
    "im.rotate(30)\n",
    "im.resize(im.size)\n",
    "im.thumbnail(im.size)\n",
    "imt = im.transpose(Image.FLIP_TOP_BOTTOM) #以90为单位翻转\n",
    "imt.show()\n",
    "\n",
    "print(im.getbands())\n",
    "print(im.getbbox())\n",
    "print(im.getcolors())\n",
    "print(im.getdata()[200])\n",
    "print(im.getchannel('R'))\n",
    "imc = im.getchannel('B')\n",
    "im.split()[1] == im.getchannel('G') #true\n"
   ]
  },
  {
   "cell_type": "code",
   "execution_count": 23,
   "metadata": {},
   "outputs": [],
   "source": [
    "import numpy as np\n",
    "\n",
    "im = np.array(im)\n",
    "print(im.shape)\n",
    "\n",
    "im2 = Image.fromarray(np.uint8(im))\n",
    "print(im2)"
   ]
  }
 ],
 "metadata": {
  "kernelspec": {
   "display_name": "Python 3",
   "language": "python",
   "name": "python3"
  },
  "language_info": {
   "codemirror_mode": {
    "name": "ipython",
    "version": 3
   },
   "file_extension": ".py",
   "mimetype": "text/x-python",
   "name": "python",
   "nbconvert_exporter": "python",
   "pygments_lexer": "ipython3",
   "version": "3.6.3"
  }
 },
 "nbformat": 4,
 "nbformat_minor": 2
}
